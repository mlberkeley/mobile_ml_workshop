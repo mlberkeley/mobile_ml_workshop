{
 "cells": [
  {
   "cell_type": "markdown",
   "metadata": {},
   "source": [
    "# Mobile ML Workshop"
   ]
  },
  {
   "cell_type": "markdown",
   "metadata": {},
   "source": [
    "In this workshop, we will go over how to build a digit-recognizing neural network, how to quantize weights, how to port it over to a mobile device, and how to integrate it into a mobile application. The code for this workshop was heavily based on this repo: https://github.com/r4ghu/iOS-CoreML-MNIST/"
   ]
  },
  {
   "cell_type": "markdown",
   "metadata": {},
   "source": [
    "## Creating a Digit-Recognizing Neural Network"
   ]
  },
  {
   "cell_type": "code",
   "execution_count": 1,
   "metadata": {
    "collapsed": false
   },
   "outputs": [],
   "source": [
    "%%capture\n",
    "import numpy as np\n",
    "import matplotlib.pyplot as plt\n",
    "%matplotlib inline\n",
    "import tensorflow as tf\n",
    "\n",
    "import keras\n",
    "from keras.datasets import mnist\n",
    "from keras.models import Sequential\n",
    "from keras.layers import Dense, Dropout, Flatten\n",
    "from keras.layers.convolutional import Conv2D, MaxPooling2D\n",
    "from keras.utils import np_utils\n",
    "from keras import backend as K\n",
    "K.set_image_dim_ordering('tf')\n",
    "\n",
    "# This is to get around odd conda issues\n",
    "import sys\n",
    "!{sys.executable} -m pip install coremltools==2.0b1\n",
    "import coremltools\n",
    "from coremltools.models.neural_network.quantization_utils import *"
   ]
  },
  {
   "cell_type": "markdown",
   "metadata": {},
   "source": [
    "### Getting Data"
   ]
  },
  {
   "cell_type": "code",
   "execution_count": 2,
   "metadata": {
    "collapsed": false
   },
   "outputs": [
    {
     "name": "stdout",
     "output_type": "stream",
     "text": [
      "(60000, 28, 28)\n",
      "(60000,)\n"
     ]
    }
   ],
   "source": [
    "(X_train, y_train), (X_test, y_test) = mnist.load_data()\n",
    "print(X_train.shape)\n",
    "print(y_train.shape)"
   ]
  },
  {
   "cell_type": "markdown",
   "metadata": {},
   "source": [
    "### Reformatting Data"
   ]
  },
  {
   "cell_type": "code",
   "execution_count": 3,
   "metadata": {
    "collapsed": false
   },
   "outputs": [
    {
     "name": "stdout",
     "output_type": "stream",
     "text": [
      "(60000, 28, 28, 1)\n",
      "(60000, 10)\n"
     ]
    }
   ],
   "source": [
    "num_rows = X_train.shape[1]\n",
    "num_cols = X_train.shape[2]\n",
    "num_channels = 1 # black and white images\n",
    "num_classes = 10 # ten digits\n",
    "\n",
    "X_train = X_train.reshape(X_train.shape[0], num_rows, num_cols, num_channels).astype(np.float32) / 255\n",
    "X_test = X_test.reshape(X_test.shape[0], num_rows, num_cols, num_channels).astype(np.float32) / 255\n",
    "y_train = np_utils.to_categorical(y_train)\n",
    "y_test = np_utils.to_categorical(y_test)\n",
    "print(X_train.shape)\n",
    "print(y_train.shape)"
   ]
  },
  {
   "cell_type": "markdown",
   "metadata": {},
   "source": [
    "### Visualizing Data"
   ]
  },
  {
   "cell_type": "code",
   "execution_count": 4,
   "metadata": {
    "collapsed": false
   },
   "outputs": [
    {
     "name": "stdout",
     "output_type": "stream",
     "text": [
      "LABEL VECTOR: [0. 0. 0. 0. 0. 0. 1. 0. 0. 0.]\n"
     ]
    },
    {
     "data": {
      "image/png": "[encoded data removed]",
      "text/plain": [
       "<matplotlib.figure.Figure at 0x11a9c85c0>"
      ]
     },
     "metadata": {},
     "output_type": "display_data"
    }
   ],
   "source": [
    "plt.imshow(X_train[83, :, :, 0], cmap='gray')\n",
    "print(\"LABEL VECTOR: {0}\".format(y_train[83]))"
   ]
  },
  {
   "cell_type": "markdown",
   "metadata": {},
   "source": [
    "### Building Neural Network"
   ]
  },
  {
   "cell_type": "code",
   "execution_count": 20,
   "metadata": {
    "collapsed": false
   },
   "outputs": [],
   "source": [
    "%%capture\n",
    "model = Sequential() # Fully-connected network\n",
    "# Layer Group 1\n",
    "model.add(Conv2D(32, (3, 3), input_shape=(28, 28, 1), activation='relu'))\n",
    "model.add(MaxPooling2D(pool_size=(2, 2)))\n",
    "model.add(Dropout(0.5))\n",
    "# Layer Group 2\n",
    "model.add(Conv2D(32, (3, 3), input_shape=(28, 28, 1), activation='relu'))\n",
    "model.add(MaxPooling2D(pool_size=(2, 2)))\n",
    "model.add(Dropout(0.25))\n",
    "# Layer Group 3\n",
    "model.add(Dropout(0.25))\n",
    "model.add(Flatten())\n",
    "model.add(Dense(128, activation='relu'))\n",
    "model.add(Dense(num_classes, activation='softmax'))\n",
    "\n",
    "model.compile(loss='categorical_crossentropy', optimizer='adam', metrics=['accuracy'])"
   ]
  },
  {
   "cell_type": "code",
   "execution_count": 21,
   "metadata": {
    "collapsed": false
   },
   "outputs": [
    {
     "name": "stdout",
     "output_type": "stream",
     "text": [
      "_________________________________________________________________\n",
      "Layer (type)                 Output Shape              Param #   \n",
      "=================================================================\n",
      "conv2d_3 (Conv2D)            (None, 26, 26, 32)        320       \n",
      "_________________________________________________________________\n",
      "max_pooling2d_3 (MaxPooling2 (None, 13, 13, 32)        0         \n",
      "_________________________________________________________________\n",
      "dropout_4 (Dropout)          (None, 13, 13, 32)        0         \n",
      "_________________________________________________________________\n",
      "conv2d_4 (Conv2D)            (None, 11, 11, 32)        9248      \n",
      "_________________________________________________________________\n",
      "max_pooling2d_4 (MaxPooling2 (None, 5, 5, 32)          0         \n",
      "_________________________________________________________________\n",
      "dropout_5 (Dropout)          (None, 5, 5, 32)          0         \n",
      "_________________________________________________________________\n",
      "dropout_6 (Dropout)          (None, 5, 5, 32)          0         \n",
      "_________________________________________________________________\n",
      "flatten_2 (Flatten)          (None, 800)               0         \n",
      "_________________________________________________________________\n",
      "dense_3 (Dense)              (None, 128)               102528    \n",
      "_________________________________________________________________\n",
      "dense_4 (Dense)              (None, 10)                1290      \n",
      "=================================================================\n",
      "Total params: 113,386\n",
      "Trainable params: 113,386\n",
      "Non-trainable params: 0\n",
      "_________________________________________________________________\n"
     ]
    }
   ],
   "source": [
    "model.summary()"
   ]
  },
  {
   "cell_type": "markdown",
   "metadata": {},
   "source": [
    "### Training NN"
   ]
  },
  {
   "cell_type": "code",
   "execution_count": 22,
   "metadata": {
    "collapsed": false
   },
   "outputs": [
    {
     "name": "stdout",
     "output_type": "stream",
     "text": [
      "Train on 60000 samples, validate on 10000 samples\n",
      "Epoch 1/10\n",
      "47s - loss: 1.1682 - acc: 0.6025 - val_loss: 0.4046 - val_acc: 0.8850\n",
      "Epoch 2/10\n",
      "42s - loss: 0.4783 - acc: 0.8481 - val_loss: 0.2713 - val_acc: 0.9258\n",
      "Epoch 3/10\n",
      "45s - loss: 0.3722 - acc: 0.8810 - val_loss: 0.2042 - val_acc: 0.9403\n",
      "Epoch 4/10\n",
      "45s - loss: 0.3075 - acc: 0.9030 - val_loss: 0.1670 - val_acc: 0.9504\n",
      "Epoch 5/10\n",
      "45s - loss: 0.2689 - acc: 0.9145 - val_loss: 0.1449 - val_acc: 0.9578\n",
      "Epoch 6/10\n",
      "57s - loss: 0.2393 - acc: 0.9246 - val_loss: 0.1296 - val_acc: 0.9604\n",
      "Epoch 7/10\n",
      "56s - loss: 0.2164 - acc: 0.9309 - val_loss: 0.1102 - val_acc: 0.9663\n",
      "Epoch 8/10\n",
      "41s - loss: 0.1979 - acc: 0.9363 - val_loss: 0.1062 - val_acc: 0.9664\n",
      "Epoch 9/10\n",
      "38s - loss: 0.1866 - acc: 0.9405 - val_loss: 0.0932 - val_acc: 0.9713\n",
      "Epoch 10/10\n",
      "38s - loss: 0.1728 - acc: 0.9450 - val_loss: 0.0910 - val_acc: 0.9702\n"
     ]
    },
    {
     "data": {
      "text/plain": [
       "<keras.callbacks.History at 0x1313e14e0>"
      ]
     },
     "execution_count": 22,
     "metadata": {},
     "output_type": "execute_result"
    }
   ],
   "source": [
    "model.fit(X_train, y_train, validation_data=(X_test, y_test), epochs=10, batch_size=100, verbose=2)"
   ]
  },
  {
   "cell_type": "markdown",
   "metadata": {},
   "source": [
    "### Creating Mobile Model"
   ]
  },
  {
   "cell_type": "code",
   "execution_count": 24,
   "metadata": {
    "collapsed": true
   },
   "outputs": [],
   "source": [
    "for k in model.layers:\n",
    "    if type(k) is keras.layers.Dropout:\n",
    "        model.layers.remove(k)"
   ]
  },
  {
   "cell_type": "code",
   "execution_count": 25,
   "metadata": {
    "collapsed": true
   },
   "outputs": [],
   "source": [
    "model.save('mnistCNN.h5')"
   ]
  },
  {
   "cell_type": "code",
   "execution_count": 5,
   "metadata": {
    "collapsed": false
   },
   "outputs": [
    {
     "name": "stdout",
     "output_type": "stream",
     "text": [
      "0 : conv2d_3_input, <keras.engine.topology.InputLayer object at 0x10e4a37f0>\n",
      "1 : conv2d_3, <keras.layers.convolutional.Conv2D object at 0x10e4a3128>\n",
      "2 : conv2d_3__activation__, <keras.layers.core.Activation object at 0x129a117b8>\n",
      "3 : max_pooling2d_3, <keras.layers.pooling.MaxPooling2D object at 0x10e4a3a90>\n",
      "4 : conv2d_4, <keras.layers.convolutional.Conv2D object at 0x10e4a3f60>\n",
      "5 : conv2d_4__activation__, <keras.layers.core.Activation object at 0x129a11860>\n",
      "6 : max_pooling2d_4, <keras.layers.pooling.MaxPooling2D object at 0x10e49e828>\n",
      "7 : flatten_2, <keras.layers.core.Flatten object at 0x1295007b8>\n",
      "8 : dense_3, <keras.layers.core.Dense object at 0x1294eafd0>\n",
      "9 : dense_3__activation__, <keras.layers.core.Activation object at 0x129b49ac8>\n",
      "10 : dense_4, <keras.layers.core.Dense object at 0x129551d30>\n",
      "11 : dense_4__activation__, <keras.layers.core.Activation object at 0x129b49c50>\n"
     ]
    }
   ],
   "source": [
    "output_labels = ['0', '1', '2', '3', '4', '5', '6', '7', '8', '9']\n",
    "scale = 1./255.\n",
    "coreml_model = coremltools.converters.keras.convert('./mnistCNN.h5',\n",
    "                                                   input_names='image',\n",
    "                                                   image_input_names='image',\n",
    "                                                   output_names='output',\n",
    "                                                   class_labels=output_labels,\n",
    "                                                   image_scale=scale)"
   ]
  },
  {
   "cell_type": "code",
   "execution_count": 13,
   "metadata": {
    "collapsed": false
   },
   "outputs": [
    {
     "name": "stdout",
     "output_type": "stream",
     "text": [
      "Quantizing using kmeans quantization\n",
      "Optimizing Neural Network before Quantization:\n",
      "Finished optimizing network. Quantizing neural network..\n",
      "Quantizing layer conv2d_3\n",
      "Quantizing layer conv2d_3__activation__\n",
      "Quantizing layer conv2d_4\n",
      "Quantizing layer conv2d_4__activation__\n",
      "Quantizing layer dense_3\n",
      "Quantizing layer dense_3__activation__\n",
      "Quantizing layer dense_4\n"
     ]
    }
   ],
   "source": [
    "quantized_model = quantize_weights(coreml_model, 4, 'kmeans') "
   ]
  },
  {
   "cell_type": "code",
   "execution_count": 14,
   "metadata": {
    "collapsed": false
   },
   "outputs": [
    {
     "name": "stdout",
     "output_type": "stream",
     "text": [
      "\n",
      "\n",
      "\n",
      "Analyzing 350 images\n",
      "Running Analysis this may take a while ...\n",
      "\n",
      "\n",
      "Analyzed 350/350\n",
      "\n",
      "Output classLabel:\n",
      "--------------------\n",
      "Top 1 Agreement: 99.71%\n",
      "\n",
      "Output output:\n",
      "----------------\n",
      "Top 5 Agreement: 100.0%\n",
      "\n"
     ]
    }
   ],
   "source": [
    "compare_models(quantized_model, coreml_model, 'mnist_test_sample')"
   ]
  },
  {
   "cell_type": "code",
   "execution_count": 15,
   "metadata": {
    "collapsed": false
   },
   "outputs": [],
   "source": [
    "quantized_model.author = 'YOUR NAME HERE'\n",
    "quantized_model.license = 'BSD'\n",
    "quantized_model.short_description = 'Model to classify hand written digit'\n",
    "quantized_model.input_description['image'] = 'Grayscale image of hand written digit'\n",
    "quantized_model.output_description['output'] = 'Predicted digit'\n",
    "quantized_model.save('mnistCNN.mlmodel')"
   ]
  },
  {
   "cell_type": "markdown",
   "metadata": {
    "collapsed": true
   },
   "source": [
    "Now, we will switch over to Xcode"
   ]
  },
  {
   "cell_type": "code",
   "execution_count": null,
   "metadata": {
    "collapsed": true
   },
   "outputs": [],
   "source": []
  }
 ],
 "metadata": {
  "anaconda-cloud": {},
  "kernelspec": {
   "display_name": "Python [default]",
   "language": "python",
   "name": "python3"
  },
  "language_info": {
   "codemirror_mode": {
    "name": "ipython",
    "version": 3
   },
   "file_extension": ".py",
   "mimetype": "text/x-python",
   "name": "python",
   "nbconvert_exporter": "python",
   "pygments_lexer": "ipython3",
   "version": "3.5.4"
  }
 },
 "nbformat": 4,
 "nbformat_minor": 1
}
